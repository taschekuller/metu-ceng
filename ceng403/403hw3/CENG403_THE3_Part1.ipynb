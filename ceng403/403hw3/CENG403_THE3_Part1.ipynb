{
  "cells": [
    {
      "cell_type": "markdown",
      "metadata": {
        "id": "-N8A5UYiE4L7"
      },
      "source": [
        "# CENG403 - Spring 2024 - THE3\n",
        "In this THE, you will first implement convolution & pooling operations of a CNN and their backpropagation(Task 1). Then, you will experience how CNNs can be implemented in PyTorch(Task2). Finally, you will finetune a ResNet18 (prerained on ImageNet) on CIFAR10 (Task3).\n",
        "\n",
        "Note that these Colab files are provided read-only and you should copy them to your Google Drives/Colab folders to be able to save your changes.\n",
        "\n",
        "Once you are done working on your files, without clearing the outputs, save them on your computer and zip them into a file THE3.zip without placing them into a directory. Upload this ZIP file on the ODTUClass page of the course under assignment \"THE3\".\n",
        "# Task 1: Naive Convolution and Pooling\n",
        "In this task, you will implement convolution and pooling operations in a naive way without using any matrix-vector multiplication.\n",
        "\n",
        "*Disclaimer: Some components are adapted or taken from [CS231n](https://cs231n.github.io/) materials.*"
      ]
    },
    {
      "cell_type": "markdown",
      "metadata": {
        "id": "pfmBLQj5OAnT"
      },
      "source": [
        "## 1.1 Import the Modules\n",
        "\n",
        "As usual, let us import the modules that we will use."
      ]
    },
    {
      "cell_type": "code",
      "execution_count": 63,
      "metadata": {
        "id": "DSIkrblIOA_R"
      },
      "outputs": [
        {
          "name": "stdout",
          "output_type": "stream",
          "text": [
            "Requirement already satisfied: matplotlib in /Users/dogukanince/miniforge3/envs/test_env/lib/python3.12/site-packages (3.9.0)\n",
            "Requirement already satisfied: contourpy>=1.0.1 in /Users/dogukanince/miniforge3/envs/test_env/lib/python3.12/site-packages (from matplotlib) (1.2.1)\n",
            "Requirement already satisfied: cycler>=0.10 in /Users/dogukanince/miniforge3/envs/test_env/lib/python3.12/site-packages (from matplotlib) (0.12.1)\n",
            "Requirement already satisfied: fonttools>=4.22.0 in /Users/dogukanince/miniforge3/envs/test_env/lib/python3.12/site-packages (from matplotlib) (4.53.1)\n",
            "Requirement already satisfied: kiwisolver>=1.3.1 in /Users/dogukanince/miniforge3/envs/test_env/lib/python3.12/site-packages (from matplotlib) (1.4.5)\n",
            "Requirement already satisfied: numpy>=1.23 in /Users/dogukanince/miniforge3/envs/test_env/lib/python3.12/site-packages (from matplotlib) (1.26.4)\n",
            "Requirement already satisfied: packaging>=20.0 in /Users/dogukanince/miniforge3/envs/test_env/lib/python3.12/site-packages (from matplotlib) (23.2)\n",
            "Requirement already satisfied: pillow>=8 in /Users/dogukanince/miniforge3/envs/test_env/lib/python3.12/site-packages (from matplotlib) (10.2.0)\n",
            "Requirement already satisfied: pyparsing>=2.3.1 in /Users/dogukanince/miniforge3/envs/test_env/lib/python3.12/site-packages (from matplotlib) (3.1.2)\n",
            "Requirement already satisfied: python-dateutil>=2.7 in /Users/dogukanince/miniforge3/envs/test_env/lib/python3.12/site-packages (from matplotlib) (2.8.2)\n",
            "Requirement already satisfied: six>=1.5 in /Users/dogukanince/miniforge3/envs/test_env/lib/python3.12/site-packages (from python-dateutil>=2.7->matplotlib) (1.16.0)\n",
            "Note: you may need to restart the kernel to use updated packages.\n"
          ]
        }
      ],
      "source": [
        "%pip install matplotlib\n",
        "import matplotlib.pyplot as plt # For plotting\n",
        "import numpy as np              # NumPy, for working with arrays/tensors\n",
        "import os                       # Built-in library for filesystem access etc.\n",
        "import pickle                   # For (re)storing Python objects into (from) files\n",
        "import time                     # For measuring time\n",
        "import random                   # Python's random library\n",
        "\n",
        "%matplotlib inline\n",
        "plt.rcParams['figure.figsize'] = [12, 8]\n",
        "plt.rcParams['figure.dpi'] = 100 # 200 e.g. is really fine, but slower"
      ]
    },
    {
      "cell_type": "markdown",
      "metadata": {
        "id": "e6NQtyenE8kd"
      },
      "source": [
        "## 1.2 Naive Implementation of Convolution\n",
        "\n",
        "Here, we will implement 2D convolution using only for/while loops; in other words, **NO** vector/matrix multiplications."
      ]
    },
    {
      "cell_type": "markdown",
      "metadata": {
        "id": "VF-mlexaVVAf"
      },
      "source": [
        "### 1.2.1 Convolution Feedforward\n",
        "\n",
        "\n"
      ]
    },
    {
      "cell_type": "code",
      "execution_count": 64,
      "metadata": {
        "id": "i-8UbQIsJkIj"
      },
      "outputs": [],
      "source": [
        "def conv_forward_naive(x, w, b, stride, padding):\n",
        "    \"\"\"\n",
        "    The input consists of N samples, each with C channels, height H and\n",
        "    width W. We convolve each input with F different filters, where each filter\n",
        "    spans all C channels and has height FH and width FW.\n",
        "\n",
        "    Input:\n",
        "    - x: Input data of shape (N, C, H, W)\n",
        "    - w: Filter weights of shape (F, C, FH, FW)\n",
        "    - b: Biases, of shape (F,)\n",
        "    - stride: The number of pixels between adjacent receptive fields in the\n",
        "        horizontal and vertical directions.\n",
        "    - padding: The number of pixels that will be used to zero-pad the input.\n",
        "\n",
        "    During padding, 'padding'-many zeros should be placed symmetrically (i.e equally on both sides)\n",
        "    along the height and width axes of the input. Be careful not to modfiy the original\n",
        "    input x directly.\n",
        "\n",
        "    Returns a tuple of:\n",
        "    - out: Output data, of shape (N, F, H', W') where H' and W' are given by\n",
        "      H' = 1 + (H + 2 * padding - FH) / stride\n",
        "      W' = 1 + (W + 2 * padding - FW) / stride\n",
        "    - cache: (x_pad, w, b, stride, padding)\n",
        "    \"\"\"\n",
        "\n",
        "    # Layer output:\n",
        "    out = None\n",
        "\n",
        "    # Get values for the dimensions:\n",
        "    N, C, H, W = x.shape\n",
        "    F, C, FH, FW = w.shape\n",
        "\n",
        "    # Just to make sure\n",
        "    if (H - FH + 2 * padding) % stride != 0:\n",
        "      return ValueError(\"Filters do not align horizontally\")\n",
        "    if (W - FW + 2 * padding) % stride != 0:\n",
        "      return ValueError(\"Filters do not align vertically\")\n",
        "    \n",
        "    \n",
        "\n",
        "\n",
        "    ###########################################################################\n",
        "    # TODO: Implement the convolutional forward pass. You cannot use          #\n",
        "    # vector or matrix multiplications here. Be careful about stride.         #\n",
        "    # Hints:                                                                  #\n",
        "    #  (1) You can use the function np.pad for padding.                       #\n",
        "    #  (2) You will have such a nested loop structure here:                   #\n",
        "    #    - loop over N samples                                                #\n",
        "    #      - loop over F filters                                              #\n",
        "    #        - loop over rows of x_pad                                        #\n",
        "    #          - loop over cols of x_pad                                      #\n",
        "    #            - loop over kernel rows                                      #\n",
        "    #              - loop over kernel cols                                    #\n",
        "    #                - loop over channels                                     #\n",
        "    ###########################################################################\n",
        "    out_H = 1 + (H + 2 * padding - FH) // stride # +Calculate the output height\n",
        "    out_W = 1 + (W + 2 * padding - FW) // stride # +Calculate the output width\n",
        "    \n",
        "    x_pad = np.pad(x, ((0, 0), (0, 0), (padding, padding), (padding, padding)), mode='constant', constant_values=0) # +Pad the input\n",
        "\n",
        "    out = np.zeros((N, F, out_H, out_W)) # +Initialize the output\n",
        "    \n",
        "    for n in range(N):\n",
        "      for f in range(F):\n",
        "        for i in range(out_H): # +Iterate over the output height\n",
        "          for j in range(out_W): # +Iterate over the output width\n",
        "            h_start = i * stride\n",
        "            h_end = h_start + FH # +Calculate the height start and end of the \"current\" slice\n",
        "            w_start = j * stride\n",
        "            w_end = w_start + FW\n",
        "            for k_h in range(FH):\n",
        "              for k_w in range(FW):\n",
        "                for c in range(C):\n",
        "                  out[n, f, i, j] += x_pad[n, c, h_start + k_h, w_start + k_w] * w[f, c, k_h, k_w] # +Convolve the filter with the input\n",
        "            out[n, f, i, j] += b[f]  # Add bias term !!!! \n",
        "    ###########################################################################\n",
        "    #                             END OF YOUR CODE                            #\n",
        "    ###########################################################################\n",
        "    cache = (x_pad, w, b, stride, padding)\n",
        "    return out, cache"
      ]
    },
    {
      "cell_type": "markdown",
      "metadata": {
        "id": "JQk5fjckWhnR"
      },
      "source": [
        "### 1.2.2 Convolution Feedforward Check\n",
        "\n",
        "Let us quickly check your implementation with some known values. Your output should differ by $\\sim 10^{-8}$."
      ]
    },
    {
      "cell_type": "code",
      "execution_count": 65,
      "metadata": {
        "id": "kWO4tshRIAxq"
      },
      "outputs": [
        {
          "name": "stdout",
          "output_type": "stream",
          "text": [
            "Testing conv_forward_naive\n",
            "difference:  2.212147649671884e-08\n"
          ]
        }
      ],
      "source": [
        "\n",
        "x_shape = (2, 3, 4, 4)\n",
        "w_shape = (3, 3, 4, 4)\n",
        "x = np.linspace(-0.1, 0.5, num=np.prod(x_shape)).reshape(x_shape)\n",
        "w = np.linspace(-0.2, 0.3, num=np.prod(w_shape)).reshape(w_shape)\n",
        "b = np.linspace(-0.1, 0.2, num=3)\n",
        "\n",
        "stride = 2\n",
        "padding = 1\n",
        "out, _ = conv_forward_naive(x, w, b, stride, padding)\n",
        "correct_out = np.array([[[[-0.08759809, -0.10987781],\n",
        "                           [-0.18387192, -0.2109216 ]],\n",
        "                          [[ 0.21027089,  0.21661097],\n",
        "                           [ 0.22847626,  0.23004637]],\n",
        "                          [[ 0.50813986,  0.54309974],\n",
        "                           [ 0.64082444,  0.67101435]]],\n",
        "                         [[[-0.98053589, -1.03143541],\n",
        "                           [-1.19128892, -1.24695841]],\n",
        "                          [[ 0.69108355,  0.66880383],\n",
        "                           [ 0.59480972,  0.56776003]],\n",
        "                          [[ 2.36270298,  2.36904306],\n",
        "                           [ 2.38090835,  2.38247847]]]])\n",
        "\n",
        "def rel_error(x, y):\n",
        "  \"\"\" returns relative error \"\"\"\n",
        "  return np.max(np.abs(x - y) / (np.maximum(1e-8, np.abs(x) + np.abs(y))))\n",
        "\n",
        "# Compare your output to ours; difference should be around e-8\n",
        "print('Testing conv_forward_naive')\n",
        "print('difference: ', rel_error(out, correct_out))"
      ]
    },
    {
      "cell_type": "markdown",
      "metadata": {
        "id": "r4DXOOvBWSjE"
      },
      "source": [
        "### 1.2.3 Convolution Gradient\n",
        "\n",
        "Now, let us implement the gradient. Again, you are **NOT** allowed to use any vector/matrix multiplication here."
      ]
    },
    {
      "cell_type": "code",
      "execution_count": 66,
      "metadata": {
        "id": "5ewZb1xkroZX"
      },
      "outputs": [],
      "source": [
        "def conv_backward_naive(dout, cache):\n",
        "    \"\"\"\n",
        "    A naive implementation of the backward pass for a convolutional layer.\n",
        "\n",
        "    Inputs:\n",
        "    - dout: Upstream derivatives.\n",
        "    - cache: A tuple of (x, w, b, stride, padding) as in conv_forward_naive\n",
        "\n",
        "    Returns a tuple of:\n",
        "    - dx: Gradient with respect to x.\n",
        "    - dw: Gradient with respect to w\n",
        "    - db: Gradient with respect to b\n",
        "    \"\"\"\n",
        "    dx, dw, db = None, None, None\n",
        "    x, w, b, stride, padding = cache\n",
        "\n",
        "    N, C, H, W = x.shape\n",
        "    F, C, FH, FW = w.shape\n",
        "    N, F, out_H, out_W = dout.shape\n",
        "    \n",
        "    dx = np.zeros_like(x)\n",
        "    dw = np.zeros_like(w)\n",
        "    db = np.zeros_like(b)\n",
        "    \n",
        "    x_pad = np.pad(x, ((0, 0), (0, 0), (padding, padding), (padding, padding)), mode='constant', constant_values=0)\n",
        "    # dx_pad = np.pad(dx, ((0, 0), (0, 0), (padding, padding), (padding, padding)), mode='constant', constant_values=0)\n",
        "    dx_pad = np.zeros_like(x_pad)\n",
        "    \n",
        "    \n",
        "    db = np.sum(dout, axis=(0, 2, 3))\n",
        "    \n",
        "    for n in range(N):\n",
        "      for f in range(F):\n",
        "        for i in range(out_H):\n",
        "          for j in range(out_W):\n",
        "            h_start = i * stride\n",
        "            h_end = h_start + FH\n",
        "            w_start = j * stride\n",
        "            w_end = w_start + FW\n",
        "            \n",
        "            for k_h in range(FH):\n",
        "              for k_w in range(FW):\n",
        "                for c in range(C):\n",
        "                  dw[f, c, k_h, k_w] += x_pad[n, c, h_start + k_h, w_start + k_w] * dout[n, f, i, j] #+ Calculate the gradient with respect to w\n",
        "            for k_h in range(FH):\n",
        "              for k_w in range(FW):\n",
        "                for c in range(C):\n",
        "                  dx_pad[n, c, h_start + k_h, w_start + k_w] += w[f, c, k_h, k_w] * dout[n, f, i, j] #+ Calculate the gradient with respect to x\n",
        "    dx = dx_pad[:, :, padding:-padding, padding:-padding]\n",
        "        \n",
        "    # if padding > 0:\n",
        "    #     dx = dx_pad[:, :, padding:-padding, padding:-padding]\n",
        "    # else:\n",
        "    #     dx = dx_pad\n",
        "        \n",
        "    print(\"***** DIMENSIONS *****\")\n",
        "    print('x_pad shape:', x_pad.shape)\n",
        "    print('dx_pad shape:', dx_pad.shape)\n",
        "    print('dx shape:', dx.shape)\n",
        "    print('dw shape:', dw.shape)\n",
        "    print('db shape:', db.shape)\n",
        "    ###########################################################################\n",
        "    # TODO: Implement the convolutional backward pass.                        #\n",
        "    ###########################################################################\n",
        "\n",
        "    ###########################################################################\n",
        "    #                             END OF YOUR CODE                            #\n",
        "    ###########################################################################\n",
        "    return dx, dw, db"
      ]
    },
    {
      "cell_type": "markdown",
      "metadata": {
        "id": "ka7ev5-BwTSc"
      },
      "source": [
        "### 1.2.4 Convolution Gradient Check\n",
        "\n",
        "Let us check the gradient. You should see differences lower than $10^{-9}$."
      ]
    },
    {
      "cell_type": "code",
      "execution_count": 67,
      "metadata": {
        "id": "FSk5T7cOwUtC"
      },
      "outputs": [
        {
          "name": "stdout",
          "output_type": "stream",
          "text": [
            "***** DIMENSIONS *****\n",
            "x_pad shape: (4, 3, 9, 9)\n",
            "dx_pad shape: (4, 3, 9, 9)\n",
            "dx shape: (4, 3, 7, 7)\n",
            "dw shape: (2, 3, 3, 3)\n",
            "db shape: (2,)\n",
            "***** GRADIENTS *****\n",
            "[[[[ 2.02022648e+00  1.31557244e+00 -3.15087854e+00  3.23892197e+00\n",
            "    -4.01214844e+00]\n",
            "   [ 1.71832340e+00 -7.09240980e-01 -5.32421591e+00  7.82298212e-01\n",
            "    -2.18995738e+00]\n",
            "   [-8.29200893e-01  2.82134457e+00 -1.25541821e+00 -1.13170679e+00\n",
            "    -3.55839346e+00]\n",
            "   [-3.35783037e-01 -2.76913948e+00  4.25723911e+00 -8.11824513e-01\n",
            "     2.70901018e+00]\n",
            "   [ 8.47052635e-02  4.30588591e-01  2.95022069e+00 -2.92763735e+00\n",
            "    -9.38719074e-01]]\n",
            "\n",
            "  [[ 3.36982195e-01  7.66793750e+00  1.57619395e+00  5.02203786e+00\n",
            "    -1.69753665e+00]\n",
            "   [-1.93329123e+00 -9.86659460e+00  3.53426045e+00  7.35637014e-01\n",
            "    -3.43491944e+00]\n",
            "   [-5.79144643e-01  6.55462097e-01  1.89050154e+00 -6.40445092e-01\n",
            "    -2.87212774e+00]\n",
            "   [-7.13485097e+00  8.58935000e+00 -3.51576934e+00  4.39354129e+00\n",
            "    -4.79888306e-02]\n",
            "   [ 7.41454674e-02  5.09290866e+00 -3.31756515e-01  1.78806118e+00\n",
            "    -1.19409283e+00]]\n",
            "\n",
            "  [[ 1.16842534e+00  1.43474034e+00 -4.53817523e+00  5.30614446e+00\n",
            "    -1.86829466e+00]\n",
            "   [ 2.35364834e+00 -1.66440815e+00 -7.44471603e+00 -7.70657096e+00\n",
            "     5.89220732e+00]\n",
            "   [-1.74203029e+00  8.24793943e+00  1.07276459e+00 -6.94355593e+00\n",
            "    -2.73216704e-01]\n",
            "   [ 1.07133933e+01 -9.71331374e+00  3.34956728e+00 -4.90576418e+00\n",
            "    -3.42628408e-01]\n",
            "   [ 2.68982391e-01  1.38367045e-01  2.71260262e+00  2.76204022e+00\n",
            "     5.30966484e-01]]]\n",
            "\n",
            "\n",
            " [[[-9.24657853e-02 -1.28006446e+00  7.25949523e-01 -1.50713064e+00\n",
            "     3.49119052e+00]\n",
            "   [ 1.53838772e+00  2.64526101e+00  8.20046712e-01 -9.22016142e+00\n",
            "     1.63940077e+00]\n",
            "   [ 3.16738345e+00  6.17424947e+00 -2.76805430e+00 -6.42229976e+00\n",
            "     2.65598135e+00]\n",
            "   [-2.97274860e+00  4.36161434e+00 -9.67287141e-01 -4.81172034e-01\n",
            "    -3.02355308e-01]\n",
            "   [-8.76153249e-01 -4.29451540e+00 -2.09423140e+00  4.77098022e+00\n",
            "    -1.29994324e+00]]\n",
            "\n",
            "  [[-3.11026408e+00 -4.22130959e-01 -3.16341917e+00 -6.87594596e-01\n",
            "     3.71765763e+00]\n",
            "   [-5.11734434e+00  3.48143372e+00 -1.05431157e+01 -1.07525519e+00\n",
            "    -3.26488725e+00]\n",
            "   [-1.50607489e-02 -1.96961311e+00 -7.37686896e+00 -1.75471333e+00\n",
            "    -6.12878447e-01]\n",
            "   [ 7.07697906e+00 -4.48866637e+00  1.46204169e+00  5.43930108e+00\n",
            "    -2.55228256e+00]\n",
            "   [-1.81330361e+00  2.42924773e+00  4.38392097e+00  1.60253889e+00\n",
            "     3.47716784e+00]]\n",
            "\n",
            "  [[ 7.26442754e-01  1.55500756e+00  1.08374415e+00 -9.87805473e-01\n",
            "     9.96467670e-01]\n",
            "   [ 2.19773761e+00 -7.72766145e-01 -4.20673743e-02 -2.31208377e+00\n",
            "     5.87178887e+00]\n",
            "   [ 1.80909115e+00  2.46208898e+00 -1.33290960e+00 -6.19429002e+00\n",
            "    -7.51866026e+00]\n",
            "   [-5.02247881e+00  1.15874470e+01  1.50015634e+00 -4.98669649e+00\n",
            "    -1.99920556e+00]\n",
            "   [ 3.89360217e+00 -7.44746816e+00  4.84725932e+00  1.20209521e+00\n",
            "    -3.99756223e+00]]]\n",
            "\n",
            "\n",
            " [[[-2.22724398e+00  1.05739219e+00 -1.50878460e+00  4.51775389e-01\n",
            "     1.71437390e+00]\n",
            "   [-2.89878986e+00  3.85205772e+00  1.93410186e+00  2.49346770e+00\n",
            "     7.19826867e-01]\n",
            "   [ 1.37507135e+00  3.11595907e+00 -3.16196665e+00  2.61839254e+00\n",
            "    -2.98748948e+00]\n",
            "   [ 1.08971823e+00  1.61188748e+00 -5.39432406e+00  2.69503308e+00\n",
            "     2.73310267e-01]\n",
            "   [ 7.39397227e-01 -3.92230361e-01 -1.98014370e+00  2.93883935e-01\n",
            "     2.56585759e+00]]\n",
            "\n",
            "  [[-3.28718023e-01 -4.33568608e+00 -1.27412896e+00  2.05462257e+00\n",
            "     4.96874957e-02]\n",
            "   [ 7.81585502e-01  1.40577482e-01  1.04168798e+00  6.10370381e+00\n",
            "     1.02087077e-01]\n",
            "   [-3.54133834e+00 -5.48100336e-02  4.18848264e+00 -7.59702625e+00\n",
            "     1.64354483e+00]\n",
            "   [ 3.34358019e+00  9.59113366e-01 -4.64071785e+00 -6.91362085e-01\n",
            "     6.08528473e-01]\n",
            "   [-9.00537916e-01  1.83260645e+00  8.63589935e-01  8.32684376e+00\n",
            "     4.38067710e-01]]\n",
            "\n",
            "  [[-2.33796416e+00  2.50387538e+00 -7.40128489e-01 -2.38669029e+00\n",
            "    -1.17126393e+00]\n",
            "   [ 2.09598120e+00  2.81442706e+00 -1.76901625e+00 -3.32756461e+00\n",
            "     2.61252406e-01]\n",
            "   [-1.51690435e+00 -2.31587751e+00  7.56492868e-01  1.01951205e+01\n",
            "    -1.69296843e+00]\n",
            "   [ 8.89771956e-01  9.43576092e+00 -7.01734385e-01 -3.57031301e+00\n",
            "     1.25410926e+00]\n",
            "   [ 3.82473504e+00 -4.27778184e+00 -2.73984398e-01 -2.92967517e-01\n",
            "     5.45312796e+00]]]\n",
            "\n",
            "\n",
            " [[[ 2.45214891e+00  2.13223471e-01 -7.07866001e-01 -1.05986094e+00\n",
            "    -1.76775104e+00]\n",
            "   [-1.72922648e+00 -7.45392476e-01  6.69575847e-01  5.90344585e-01\n",
            "    -2.39720472e+00]\n",
            "   [-3.02734110e-02  2.11157491e+00 -3.03498034e-01 -9.22613984e-01\n",
            "    -2.25027117e+00]\n",
            "   [ 2.72860935e-01  1.35912218e+00 -4.87928095e+00 -7.02707004e-01\n",
            "     1.73777378e+00]\n",
            "   [ 3.92869460e+00  6.94953939e+00  1.90670405e-01 -3.83811669e+00\n",
            "    -1.48902665e+00]]\n",
            "\n",
            "  [[ 4.40869446e-01  1.64971989e-01 -4.93125978e+00  1.83330126e+00\n",
            "    -2.35008492e+00]\n",
            "   [ 1.07654479e-01 -5.80944942e-01  1.84155445e-01  2.53968657e+00\n",
            "    -3.83704586e+00]\n",
            "   [ 3.29454842e+00 -2.75661043e+00 -1.90948429e+00 -3.87136873e+00\n",
            "    -2.97565385e+00]\n",
            "   [-1.59334541e+00 -7.51611821e+00 -6.36266425e-01 -3.07632785e-03\n",
            "     3.96334543e+00]\n",
            "   [ 1.90486915e+00  4.53608888e+00  5.61383950e-01 -1.90494224e+00\n",
            "    -2.51582315e+00]]\n",
            "\n",
            "  [[-1.28807327e+00 -8.42847699e-01  1.40578602e+00 -7.52186351e-01\n",
            "    -2.50394298e-01]\n",
            "   [-4.08666156e-01  8.42415630e-01 -8.25740366e-01 -1.49863560e+00\n",
            "     3.63457853e-01]\n",
            "   [-3.03494852e+00 -2.27281566e+00  4.11975168e-01 -2.49329512e+00\n",
            "     5.08448576e-01]\n",
            "   [ 1.64486500e+00 -6.31210781e-01 -3.52449616e+00 -7.12887801e-01\n",
            "    -4.79192895e-01]\n",
            "   [ 1.73538040e+00 -2.36114753e-01 -1.79911747e+00 -3.25074235e+00\n",
            "     3.08087853e+00]]]]\n",
            "Testing conv_backward_naive function\n"
          ]
        },
        {
          "ename": "ValueError",
          "evalue": "operands could not be broadcast together with shapes (4,3,7,7) (4,3,5,5) ",
          "output_type": "error",
          "traceback": [
            "\u001b[0;31m---------------------------------------------------------------------------\u001b[0m",
            "\u001b[0;31mValueError\u001b[0m                                Traceback (most recent call last)",
            "Cell \u001b[0;32mIn[67], line 40\u001b[0m\n\u001b[1;32m     38\u001b[0m \u001b[38;5;66;03m# Your errors should be around e-8 or less.\u001b[39;00m\n\u001b[1;32m     39\u001b[0m \u001b[38;5;28mprint\u001b[39m(\u001b[38;5;124m'\u001b[39m\u001b[38;5;124mTesting conv_backward_naive function\u001b[39m\u001b[38;5;124m'\u001b[39m)\n\u001b[0;32m---> 40\u001b[0m \u001b[38;5;28mprint\u001b[39m(\u001b[38;5;124m'\u001b[39m\u001b[38;5;124mdx error: \u001b[39m\u001b[38;5;124m'\u001b[39m, rel_error(dx, dx_num))\n\u001b[1;32m     41\u001b[0m \u001b[38;5;28mprint\u001b[39m(\u001b[38;5;124m'\u001b[39m\u001b[38;5;124mdw error: \u001b[39m\u001b[38;5;124m'\u001b[39m, rel_error(dw, dw_num))\n\u001b[1;32m     42\u001b[0m \u001b[38;5;28mprint\u001b[39m(\u001b[38;5;124m'\u001b[39m\u001b[38;5;124mdb error: \u001b[39m\u001b[38;5;124m'\u001b[39m, rel_error(db, db_num))\n",
            "Cell \u001b[0;32mIn[65], line 25\u001b[0m, in \u001b[0;36mrel_error\u001b[0;34m(x, y)\u001b[0m\n\u001b[1;32m     23\u001b[0m \u001b[38;5;28;01mdef\u001b[39;00m \u001b[38;5;21mrel_error\u001b[39m(x, y):\n\u001b[1;32m     24\u001b[0m \u001b[38;5;250m  \u001b[39m\u001b[38;5;124;03m\"\"\" returns relative error \"\"\"\u001b[39;00m\n\u001b[0;32m---> 25\u001b[0m   \u001b[38;5;28;01mreturn\u001b[39;00m np\u001b[38;5;241m.\u001b[39mmax(np\u001b[38;5;241m.\u001b[39mabs(x \u001b[38;5;241m-\u001b[39m y) \u001b[38;5;241m/\u001b[39m (np\u001b[38;5;241m.\u001b[39mmaximum(\u001b[38;5;241m1e-8\u001b[39m, np\u001b[38;5;241m.\u001b[39mabs(x) \u001b[38;5;241m+\u001b[39m np\u001b[38;5;241m.\u001b[39mabs(y))))\n",
            "\u001b[0;31mValueError\u001b[0m: operands could not be broadcast together with shapes (4,3,7,7) (4,3,5,5) "
          ]
        }
      ],
      "source": [
        "def eval_numerical_gradient_array(f, x, df, h=1e-5):\n",
        "    \"\"\"\n",
        "    Evaluate a numeric gradient for a function that accepts a numpy\n",
        "    array and returns a numpy array.\n",
        "    \"\"\"\n",
        "    grad = np.zeros_like(x)\n",
        "    it = np.nditer(x, flags=['multi_index'], op_flags=['readwrite'])\n",
        "    while not it.finished:\n",
        "        ix = it.multi_index\n",
        "\n",
        "        oldval = x[ix]\n",
        "        x[ix] = oldval + h\n",
        "        pos = f(x).copy()\n",
        "        x[ix] = oldval - h\n",
        "        neg = f(x).copy()\n",
        "        x[ix] = oldval\n",
        "\n",
        "        grad[ix] = np.sum((pos - neg) * df) / (2 * h)\n",
        "        it.iternext()\n",
        "    return grad\n",
        "\n",
        "np.random.seed(231)\n",
        "x = np.random.randn(4, 3, 5, 5)\n",
        "w = np.random.randn(2, 3, 3, 3)\n",
        "b = np.random.randn(2,)\n",
        "dout = np.random.randn(4, 2, 5, 5)\n",
        "stride = 1\n",
        "pad = 1\n",
        "\n",
        "dx_num = eval_numerical_gradient_array(lambda x: conv_forward_naive(x, w, b, stride, pad)[0], x, dout)\n",
        "dw_num = eval_numerical_gradient_array(lambda w: conv_forward_naive(x, w, b, stride, pad)[0], w, dout)\n",
        "db_num = eval_numerical_gradient_array(lambda b: conv_forward_naive(x, w, b, stride, pad)[0], b, dout)\n",
        "\n",
        "out, cache = conv_forward_naive(x, w, b, stride, pad)\n",
        "dx, dw, db = conv_backward_naive(dout, cache)\n",
        "print(\"***** GRADIENTS *****\")\n",
        "print(dx_num)\n",
        "# Your errors should be around e-8 or less.\n",
        "print('Testing conv_backward_naive function')\n",
        "print('dx error: ', rel_error(dx, dx_num))\n",
        "print('dw error: ', rel_error(dw, dw_num))\n",
        "print('db error: ', rel_error(db, db_num))"
      ]
    },
    {
      "cell_type": "markdown",
      "metadata": {
        "id": "nj-avor_VY-O"
      },
      "source": [
        "## 1.3 Pooling\n",
        "\n",
        "Now, we implement pooling, max-pooling to be specific. Again, **no** use of vector/matrix multiplications."
      ]
    },
    {
      "cell_type": "markdown",
      "metadata": {
        "id": "iyEDErauzUuw"
      },
      "source": [
        "### 1.3.1 Pooling Feedforward"
      ]
    },
    {
      "cell_type": "code",
      "execution_count": null,
      "metadata": {
        "id": "V6SOEQieWbh8"
      },
      "outputs": [],
      "source": [
        "def max_pool_forward_naive(x, stride, PH, PW):\n",
        "    \"\"\"\n",
        "    A naive implementation of the forward pass for a max-pooling layer.\n",
        "    Inputs:\n",
        "    - x: Input data, of shape (N, C, H, W)\n",
        "    - stride: The distance between adjacent pooling regions\n",
        "    - PH: The height of each pooling region\n",
        "    - PW: The width of each pooling region\n",
        "\n",
        "    Returns a tuple of:\n",
        "    - out: Output data, of shape (N, C, H', W') where H' and W' are given by\n",
        "      H' = 1 + (H - pool_height) / stride\n",
        "      W' = 1 + (W - pool_width) / stride\n",
        "    - cache: (x, pool_param)\n",
        "    \"\"\"\n",
        "    out = None\n",
        "    ###########################################################################\n",
        "    # TODO: Implement the max-pooling forward pass                            #\n",
        "    ###########################################################################\n",
        "\n",
        "    ###########################################################################\n",
        "    #                             END OF YOUR CODE                            #\n",
        "    ###########################################################################\n",
        "    cache = (x, stride, PH, PW)\n",
        "    return out, cache"
      ]
    },
    {
      "cell_type": "markdown",
      "metadata": {
        "id": "1JNpYSV8EFF3"
      },
      "source": [
        "### 1.3.2 Pooling Feedforward Check\n",
        "\n",
        "You should observe ~$10^{-8}$ difference."
      ]
    },
    {
      "cell_type": "code",
      "execution_count": null,
      "metadata": {
        "id": "lSlsvDgEEFgO"
      },
      "outputs": [],
      "source": [
        "x_shape = (2, 3, 4, 4)\n",
        "x = np.linspace(-0.3, 0.4, num=np.prod(x_shape)).reshape(x_shape)\n",
        "stride, PH, PW = (2, 2, 2)\n",
        "\n",
        "out, _ = max_pool_forward_naive(x, stride, PH, PW)\n",
        "\n",
        "correct_out = np.array([[[[-0.26315789, -0.24842105],\n",
        "                          [-0.20421053, -0.18947368]],\n",
        "                         [[-0.14526316, -0.13052632],\n",
        "                          [-0.08631579, -0.07157895]],\n",
        "                         [[-0.02736842, -0.01263158],\n",
        "                          [ 0.03157895,  0.04631579]]],\n",
        "                        [[[ 0.09052632,  0.10526316],\n",
        "                          [ 0.14947368,  0.16421053]],\n",
        "                         [[ 0.20842105,  0.22315789],\n",
        "                          [ 0.26736842,  0.28210526]],\n",
        "                         [[ 0.32631579,  0.34105263],\n",
        "                          [ 0.38526316,  0.4       ]]]])\n",
        "\n",
        "# Compare your output with ours. Difference should be on the order of e-8.\n",
        "print('Testing max_pool_forward_naive function:')\n",
        "print('difference: ', rel_error(out, correct_out))"
      ]
    },
    {
      "cell_type": "markdown",
      "metadata": {
        "id": "m_d7rzkMWb-0"
      },
      "source": [
        "### 1.3.3 Pooling Gradient\n",
        "\n",
        "Again, **no** use of vector/matrix multiplications."
      ]
    },
    {
      "cell_type": "code",
      "execution_count": null,
      "metadata": {
        "id": "RzVNQ60RWeTR"
      },
      "outputs": [],
      "source": [
        "def max_pool_backward_naive(dout, cache):\n",
        "    \"\"\"\n",
        "    A naive implementation of the backward pass for a max-pooling layer.\n",
        "    Inputs:\n",
        "    - dout: Upstream derivatives\n",
        "    - cache: A tuple of (x, stride, PH, PW) as in the forward pass.\n",
        "    Returns:\n",
        "    - dx: Gradient with respect to x\n",
        "    \"\"\"\n",
        "    dx = None\n",
        "    ###########################################################################\n",
        "    # TODO: Implement the max-pooling backward pass                           #\n",
        "    ###########################################################################\n",
        "\n",
        "    ###########################################################################\n",
        "    #                             END OF YOUR CODE                            #\n",
        "    ###########################################################################\n",
        "    return dx"
      ]
    },
    {
      "cell_type": "markdown",
      "metadata": {
        "id": "ZIebBQp0Ejzt"
      },
      "source": [
        "### 1.3.4 Pooling Gradient Check\n",
        "\n",
        "You should observe ~$10^{-12}$ difference."
      ]
    },
    {
      "cell_type": "code",
      "execution_count": null,
      "metadata": {
        "id": "-Rsbl6GlEmF-"
      },
      "outputs": [],
      "source": [
        "np.random.seed(231)\n",
        "x = np.random.randn(3, 2, 8, 8)\n",
        "dout = np.random.randn(3, 2, 4, 4)\n",
        "stride, PH, PW = (2, 2, 2)\n",
        "\n",
        "dx_num = eval_numerical_gradient_array(lambda x: max_pool_forward_naive(x, stride, PH, PW)[0], x, dout)\n",
        "\n",
        "out, cache = max_pool_forward_naive(x, stride, PH, PW)\n",
        "dx = max_pool_backward_naive(dout, cache)\n",
        "\n",
        "# Your error should be on the order of e-12\n",
        "print('Testing max_pool_backward_naive function:')\n",
        "print('dx error: ', rel_error(dx, dx_num))"
      ]
    }
  ],
  "metadata": {
    "colab": {
      "provenance": []
    },
    "kernelspec": {
      "display_name": "Python 3",
      "name": "python3"
    },
    "language_info": {
      "codemirror_mode": {
        "name": "ipython",
        "version": 3
      },
      "file_extension": ".py",
      "mimetype": "text/x-python",
      "name": "python",
      "nbconvert_exporter": "python",
      "pygments_lexer": "ipython3",
      "version": "3.12.2"
    }
  },
  "nbformat": 4,
  "nbformat_minor": 0
}
